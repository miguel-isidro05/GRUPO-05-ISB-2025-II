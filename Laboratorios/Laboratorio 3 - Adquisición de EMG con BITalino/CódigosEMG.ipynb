{
 "cells": [
  {
   "cell_type": "markdown",
   "id": "01716bde",
   "metadata": {},
   "source": [
    "# LABORATORIO 3: Uso de BITalino para EMG\n",
    "\n",
    "\n",
    "### Introducción\n",
    "\n",
    "\n",
    "### Objetivos específicos de la práctica\n",
    "\n",
    "\n",
    "### Materiales y equipos\n",
    "\n",
    "|  **Materiales**  | **Detalles** | **Cantidad** |\n",
    "|:------------:|:---------------:|:---------------:|\n",
    "|  Kit BITalino   | (R)EVOLUTION   | 1 |\n",
    "|   Laptop |  | 1 |\n",
    "|   Electrodos |  | 1 |\n",
    "\n",
    "### Procedimiento\n",
    "\n",
    "\n",
    "### Resultados\n",
    "\n",
    "### Referencias\n"
   ]
  }
 ],
 "metadata": {
  "language_info": {
   "name": "python"
  }
 },
 "nbformat": 4,
 "nbformat_minor": 5
}
