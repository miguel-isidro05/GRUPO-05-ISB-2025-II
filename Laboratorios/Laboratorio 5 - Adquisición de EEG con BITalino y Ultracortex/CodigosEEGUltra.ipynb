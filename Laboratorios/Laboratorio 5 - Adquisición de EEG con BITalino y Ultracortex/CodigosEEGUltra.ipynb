{
 "cells": [
  {
   "cell_type": "markdown",
   "id": "061d2463",
   "metadata": {},
   "source": [
    "# **Laboratorio 5: Codigos de las señales EEG con Ultracortex Mark IV**"
   ]
  },
  {
   "cell_type": "markdown",
   "id": "d3a2d18c",
   "metadata": {},
   "source": [
    "## 1. Importar Librerias"
   ]
  },
  {
   "cell_type": "code",
   "execution_count": 14,
   "id": "018f5534",
   "metadata": {},
   "outputs": [],
   "source": [
    "import numpy as np\n",
    "import pandas as pd\n",
    "import mne"
   ]
  },
  {
   "cell_type": "markdown",
   "id": "57bed362",
   "metadata": {},
   "source": [
    "## 2. Cargar el archivo"
   ]
  },
  {
   "cell_type": "markdown",
   "id": "b5d6e91b",
   "metadata": {},
   "source": [
    "Usaremos la libreria de pandas para esto con el archivo .csv puesto que no queremos perder la información de cabecera como los nombres de columnas (canales del EEG) y nos damos cuenta que las separaciones no estan bien definidas por lo que solo nos estaba leyendo como una unica linea. Sin embargo realizamos las separaciones obteniendo un total de 180280 filas (muestras en el tiempo)."
   ]
  },
  {
   "cell_type": "code",
   "execution_count": 15,
   "id": "ba5a86f2",
   "metadata": {},
   "outputs": [
    {
     "name": "stdout",
     "output_type": "stream",
     "text": [
      "<class 'pandas.core.frame.DataFrame'>\n",
      "RangeIndex: 180279 entries, 0 to 180278\n",
      "Data columns (total 1 columns):\n",
      " #   Column                                                                                                                                                                                                                                                                   Non-Null Count   Dtype \n",
      "---  ------                                                                                                                                                                                                                                                                   --------------   ----- \n",
      " 0   82.000000\t92462.036605\t106476.580379\t101313.930907\t115842.810672\t82063.334532\t-77023.910227\t26537.957971\t22456.484730\t0.000000\t0.000000\t0.000000\t192.000000\t0.000000\t0.000000\t0.000000\t0.000000\t0.000000\t0.000000\t0.000000\t0.000000\t0.000000\t1758131151.156259\t0.000000  180279 non-null  object\n",
      "dtypes: object(1)\n",
      "memory usage: 1.4+ MB\n",
      "None\n",
      "Index(['82.000000\\t92462.036605\\t106476.580379\\t101313.930907\\t115842.810672\\t82063.334532\\t-77023.910227\\t26537.957971\\t22456.484730\\t0.000000\\t0.000000\\t0.000000\\t192.000000\\t0.000000\\t0.000000\\t0.000000\\t0.000000\\t0.000000\\t0.000000\\t0.000000\\t0.000000\\t0.000000\\t1758131151.156259\\t0.000000'], dtype='object')\n",
      "82.000000\t92462.036605\t106476.580379\t101313.930907\t115842.810672\t82063.334532\t-77023.910227\t26537.957971\t22456.484730\t0.000000\t0.000000\t0.000000\t192.000000\t0.000000\t0.000000\t0.000000\t0.000000\t0.000000\t0.000000\t0.000000\t0.000000\t0.000000\t1758131151.156259\t0.000000\n",
      "83.000000\t92920.582643\t107716.208126\t95760.058851\t112751.385600\t78747.542649\t-82023.056689\t23434.731178\t22654.476482\t0.000000\t0.000000\t0.000000\t192.000000\t0.000000\t0.000000\t0.000000\t0.000000\t0.000000\t0.000000\t0.000000\t0.000000\t0.000000\t1758131151.156546\t0.000000\n",
      "84.000000\t92961.128707\t109811.125375\t95887.039111\t118220.365729\t77541.487222\t-78537.659769\t22108.803345\t22602.039290\t0.006000\t0.942000\t0.288000\t192.000000\t0.000000\t48.000000\t29.000000\t112.000000\t9.000000\t0.000000\t0.000000\t0.000000\t0.000000\t1758131151.156920\t0.000000\n",
      "85.000000\t92429.179541\t108735.067694\t102439.810626\t122755.020589\t81228.385118\t-72427.072814\t25576.073000\t22370.676383\t0.006000\t0.942000\t0.288000\t192.000000\t0.000000\t0.000000\t0.000000\t0.000000\t0.000000\t0.000000\t0.000000\t0.000000\t0.000000\t1758131151.157328\t0.000000\n",
      "86.000000\t92384.364293\t106566.389688\t102296.066558\t117128.840641\t82428.271464\t-75808.221198\t26865.522786\t22422.286561\t0.006000\t0.942000\t0.288000\t192.000000\t0.000000\t0.000000\t0.000000\t0.000000\t0.000000\t0.000000\t0.000000\t0.000000\t0.000000\t1758131151.157833\t0.000000\n",
      "Total de filas: 180280\n",
      "Archivo leído: 180279 filas x 1 columnas\n"
     ]
    }
   ],
   "source": [
    "path = r\"F:\\IB PUCP - UPCH\\7mo Ciclo\\Introducción a Señales Biomedicas\\Laboratorios\\Lab5 - Adquisicion de Señal EEG\\UltracortexEEG.csv\"\n",
    "df = pd.read_csv(path)\n",
    "print(df.info())\n",
    "print(df.columns)\n",
    "with open(path, \"r\") as f:\n",
    "    for i, line in enumerate(f):\n",
    "        if i < 5:   # mostrar primeras 5\n",
    "            print(line.strip())\n",
    "    print(\"Total de filas:\", i+1)\n",
    "n_rows, n_cols = df.shape\n",
    "print(f\"Archivo leído: {n_rows} filas x {n_cols} columnas\")"
   ]
  }
 ],
 "metadata": {
  "kernelspec": {
   "display_name": "BCI-env",
   "language": "python",
   "name": "python3"
  },
  "language_info": {
   "codemirror_mode": {
    "name": "ipython",
    "version": 3
   },
   "file_extension": ".py",
   "mimetype": "text/x-python",
   "name": "python",
   "nbconvert_exporter": "python",
   "pygments_lexer": "ipython3",
   "version": "3.12.11"
  }
 },
 "nbformat": 4,
 "nbformat_minor": 5
}
