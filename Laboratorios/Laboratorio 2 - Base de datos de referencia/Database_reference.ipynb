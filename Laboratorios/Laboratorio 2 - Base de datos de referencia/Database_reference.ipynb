{
 "cells": [
  {
   "cell_type": "markdown",
   "metadata": {},
   "source": [
    "# **Brain Computer Interface**"
   ]
  },
  {
   "cell_type": "markdown",
   "metadata": {},
   "source": [
    "## **1. Comprensión del problema (Business Understanding)📈🗒️**\n",
    "\n",
    "### **1.1. Brain Computer Interface 🧠⚡🖥️**\n",
    "\n",
    "Las interfaces cerebro–computadora (BCI, por sus siglas en inglés) constituyen uno de los campos más innovadores dentro de la ingeniería biomédica, dada su capacidad para transformar la interacción humano–máquina al traducir la actividad cerebral en comandos de control no muscular [1].\n",
    "\n",
    "El funcionamiento típico de un sistema BCI se estructura en una secuencia clara de etapas, ilustrada en la figura adjunta:\n",
    "\n",
    "1. **Adquisición de señales**: los electrodos captan la actividad cerebral (EEG u otras modalidades) para su análisis.\n",
    "\n",
    "2. **Preprocesamiento**: se aplican filtros y técnicas de eliminación de artefactos (como ruido electromiográfico o interferencias externas) para garantizar una señal limpia.\n",
    "\n",
    "3. **Extracción de características**: se derivan atributos relevantes de las señales (por ejemplo, bandas de frecuencia, patrones temporales o espaciales).\n",
    "\n",
    "4. **Clasificación**: mediante algoritmos de inteligencia artificial (frecuentemente redes neuronales u otros clasificadores), se interpreta la intención del usuario a partir de las características extraídas.\n",
    "\n",
    "5. **Interfaz de aplicación y retroalimentación**: los comandos generados son enviados a un dispositivo externo, que ejecuta la acción correspondiente y brinda retroalimentación al usuario para cerrar el ciclo de control.\n",
    "\n",
    "<p align=\"center\">\n",
    "  <img src=\"https://www.mdpi.com/sensors/sensors-23-06001/article_deploy/html/images/sensors-23-06001-g001-550.jpg\" alt=\"Figura 1. Esquema general del funcionamiento de un sistema BCI.\" width=\"500\"/>\n",
    "</p>\n",
    "\n",
    "<p align=\"center\"><b>Figura 1.1</b> Etapas de un sistema BCI: adquisición de señales, preprocesamiento, extracción de características, clasificación y retroalimentación [1].</p>\n",
    "\n",
    "\n",
    "Este ciclo sistemático, desde la **captura** hasta la **retroalimentación**, permite que los sistemas BCI no solo interpreten la intención cerebral, sino que también se adapten en función de la interacción, optimizando su precisión y utilidad.  \n"
   ]
  },
  {
   "cell_type": "markdown",
   "metadata": {},
   "source": [
    "### **1.2. Paradigmas clasicos 💡**\n",
    "\n",
    "El desarrollo de las interfaces cerebro–computadora se ha apoyado en paradigmas clásicos que permiten traducir la actividad cerebral en comandos controlables. Entre los más utilizados destacan el **P300**, los potenciales evocados visuales de estado estable **(SSVEP)** y la imaginación motora **(MI)**, cada uno con principios neurofisiológicos y aplicaciones específicas.\n",
    "\n",
    "\n",
    "| **Paradigm**           | **Pros**                                                                                                                                                                                                                                                              | **Cons**                                                                                                                                                                                                                                                                    |\n",
    "| ---------------------- | --------------------------------------------------------------------------------------------------------------------------------------------------------------------------------------------------------------------------------------------------------------------- | --------------------------------------------------------------------------------------------------------------------------------------------------------------------------------------------------------------------------------------------------------------------------- |\n",
    "| **P300**               | - Alta precisión (tasas de reconocimiento de hasta 99%).<br>- No requiere hardware adicional ni entrenamiento especializado más allá del uso de electrodos EEG.<br>- Amplias oportunidades de optimización gracias a su larga trayectoria en la investigación de BCI. | - Respuesta lenta debido al gran número de ensayos necesarios para lograr alta precisión.<br>- Susceptible al ruido y artefactos, lo que compromete la calidad de la señal.<br>- Baja tasa de transferencia de información por la limitada cantidad de canales disponibles. |\n",
    "| **SSVEP**              | - Configuración simple, solo requiere un monitor convencional.<br>- Protocolo robusto, capaz de detectar variaciones pequeñas en la entrada.<br>- Alta velocidad de respuesta y mayor ancho de banda, lo que permite aplicaciones en tiempo real.                     | - Baja flexibilidad y adaptabilidad; requiere condiciones predeterminadas estrictas.<br>- No responde bien a cambios inesperados en los estímulos.<br>- Portabilidad limitada: la calibración es compleja, demanda energía y dificulta su uso en sistemas móviles.          |\n",
    "| **MI** | - Gran flexibilidad, no requiere movimiento físico.<br>- Señales EEG fáciles de detectar en comparación con otros paradigmas.<br>- Método no invasivo, de bajo costo y accesible.                                                                                     | - Dificultad para diferenciar entre tareas motoras reales e imaginadas.<br>- Precisión dependiente de la complejidad de la tarea y número de decisiones en cada sesión.<br>- Fatiga mental significativa en sesiones largas, reduciendo el rendimiento.                     |\n",
    "\n",
    "<p align=\"center\"><b>Tabla 1</b> Comparación de Paradigmas Clásicos en BCI [1].</p>"
   ]
  },
  {
   "cell_type": "markdown",
   "metadata": {},
   "source": [
    "### **1.3. Rehabilitación motora con MI 🦾🔍**\n",
    "\n",
    "La rehabilitación motora mediada por interfaces cerebro-computadora (BCI) ha emergido como un área de gran interés en la neurorehabilitación, especialmente en pacientes con secuelas motoras posteriores a accidente cerebrovascular (ACV) o lesiones neurológicas. Asimismo, de acuerdo con un análisis bibliométrico reciente, el campo de BCI en rehabilitación ha mostrado un crecimiento sostenido desde 2003, alcanzando un pico significativo entre 2019 y 2021 [3]. \n",
    "\n",
    "Una de las estrategias más investigadas es la imaginería motora (MI, por sus siglas en inglés), que permite a los pacientes activar redes motoras corticales sin necesidad de ejecutar un movimiento real, lo que favorece la plasticidad cerebral y la recuperación funcional [2]. \n",
    "\n",
    "<p align=\"center\">\n",
    "  <img src=\"https://www.mdpi.com/applsci/applsci-14-06347/article_deploy/html/images/applsci-14-06347-g001.png\" alt=\"Figura 1. Esquema general del funcionamiento de un sistema BCI.\" width=\"500\"/>\n",
    "</p>\n",
    "\n",
    "<p align=\"center\"><b>Figura 1.2</b> Descripción general de un sistema de interfaz cerebro-computadora (BCI) para la rehabilitación de accidentes cerebrovasculares basada en imágenes motoras [4].</p>\n",
    "\n",
    "\n",
    "El uso de **BCI basados en MI** ha demostrado un gran potencial en la rehabilitación, ya que la actividad neural involucrada en el control de dispositivos robóticos puede facilitar la recuperación motora. Se ha demostrado que la MI activa redes neuronales similares a las de la ejecución real del movimiento (ME), permitiendo así la **estimulación de circuitos motores aun cuando estos estén dañados post-ictus** [5].  \n",
    "\n",
    "Asimismo, la teoría de Jeannerod respalda que los sustratos neuronales de la MI comparten redes con la observación de la acción (AO), conocidas como sistemas de neuronas espejo, fundamentales para el control y aprendizaje motor [5]. Esto justifica que su activación mediante BCI pueda **favorecer la plasticidad cortical**.  \n",
    "\n",
    "Finalmente, en el marco de este trabajo, se considera que la integración de bases de datos de señales EEG obtenidas durante tareas de imaginería motora resulta fundamental para el diseño y validación de algoritmos de clasificación, así como para la personalización de los protocolos de rehabilitación."
   ]
  },
  {
   "cell_type": "markdown",
   "metadata": {},
   "source": [
    "### **1.4. Objetivos del problema ✍️👤**\n",
    "- Revisar y analizar bases de datos de señales EEG relacionadas con imaginería motora para establecer parámetros de referencia en la adquisición y clasificación de señales.\n",
    "\n",
    "- Preprocesar las señales EEG obtenidas (filtrado, eliminación de artefactos y segmentación) para optimizar la calidad de los datos a usar en el sistema.\n",
    "\n",
    "- Implementar un módulo de retroalimentación visual que responda en tiempo real a las intenciones motoras del usuario.\n",
    "\n",
    "- Validar experimentalmente la efectividad del sistema en la generación de retroalimentación visual y su potencial aplicación en la rehabilitación de personas con síndrome del miembro fantasma."
   ]
  },
  {
   "cell_type": "markdown",
   "metadata": {},
   "source": [
    "## **2. Compresión de datos (Data Understanding) 📊📋**\n",
    "\n",
    "### **2.1 Recolección de datos 📂🗂️**\n",
    "\n",
    "La evaluación del rendimiento y la precisión de diferentes técnicas de BCI depende en gran medida del uso de **datasets estandarizados**, los cuales contienen registros de actividad cerebral recopilados en diversos contextos experimentales. Estos conjuntos de datos, proporcionados por instituciones de investigación, fabricantes de dispositivos o investigadores independientes, incluyen tanto **señales EEG crudas** como **información preprocesada**, por ejemplo potenciales relacionados con eventos (ERP) [1].\n",
    "\n",
    "Entre los datasets más utilizados se encuentran:\n",
    "\n",
    "- **OpenBCI Ganglion**: incluye registros en estado de reposo y de imaginación motora.\n",
    "- **Graz University EEG Motor Imagery Database**: ampliamente utilizado para tareas de MI (Motor Imagery).\n",
    "- **PhysioNet EEG Motor Movement/Imagery Dataset** : integra múltiples tipos de tareas motoras junto con puntuaciones de desempeño de los participantes.\n",
    "\n",
    "Asimismo, los **datasets de competiciones BCI** han tenido un impacto decisivo en el establecimiento de *benchmarks* para la comunidad científica. Estos fueron diseñados para competiciones internacionales en los años 2000 y actualmente constituyen una referencia obligada para la validación de nuevos algoritmos [4,5,6]:\n",
    "\n",
    "<p align=\"center\">\n",
    "  <img src=\"https://www.mdpi.com/applsci/applsci-14-06347/article_deploy/html/images/applsci-14-06347-g010-550.jpg\" alt=\"Most popular datasets.\" width=\"500\"/>\n",
    "</p>\n",
    "\n",
    "<p align=\"center\"><b>Figura 1.4</b> Descripción general de un sistema de interfaz cerebro-computadora (BCI) para la rehabilitación de accidentes cerebrovasculares basada en imágenes motoras [4].</p>\n",
    "\n",
    "- **BCI Competition IV Dataset 2a**: señales EEG y EOG de nueve sujetos realizando tareas de imaginación motora de la mano izquierda, mano derecha, pie y lengua.\n",
    "\n",
    "- **BCI Competition IV Dataset 2b**: señales EEG de nueve sujetos durante tareas de MI con presentación de estímulos visuales en una interfaz basada en retroalimentación.\n",
    "\n",
    "- **BCI Competition IV Dataset 1**: registro EEG de sujetos realizando MI de manos y pies, ampliamente utilizado en estudios de clasificación multicategoría.\n",
    "\n",
    "- **BCI Competition IV Dataset 3**: diseñado para el análisis de señales no estacionarias y adaptación de clasificadores, con tareas de MI en condiciones experimentales controladas."
   ]
  },
  {
   "cell_type": "markdown",
   "metadata": {},
   "source": [
    "### **2.2. Descripción de datos 📝📌**\n",
    "\n",
    "Para nuestro proyecto centrado en la rehabilitación motora mediante BCI con imaginación motora (MI), seleccionamos como principal fuente de datos el dataset **BCI Competition IV 2a**, y consideramos como alternativa complementaria el dataset **BCI Competition IV 2b**, dada su relevancia y características técnicas específicas.\n",
    "\n",
    "El objetivo de la BCI Competition IV es validar métodos de procesamiento de señales y clasificación aplicados a Interfaces Cerebro-Computadora (BCIs). Dentro de este marco, los datasets 2a y 2b son los más relevantes para proyectos de rehabilitación motora basada en imaginación motora (MI).\n",
    "\n",
    "| Característica         | Dataset 2a                                          | Dataset 2b                                          |\n",
    "| ---------------------- | --------------------------------------------------- | --------------------------------------------------- |\n",
    "| Nº de canales EEG      | 22 (más resolución espacial)                        | 3 bipolares (simplificado)                          |\n",
    "| Canales EOG            | 3                                                   | 3                                                   |\n",
    "| Frecuencia de muestreo | 250 Hz                                              | 250 Hz                                              |\n",
    "| Nº de clases           | 4 (mano izq., mano der., pies, lengua)              | 2 (mano izq., mano der.)                            |\n",
    "| Nº de sujetos          | 9                                                   | 9                                                   |\n",
    "| Complejidad            | Alta – más realista                                 | Baja – más ligero                                   |\n",
    "| Relevancia clínica     | Mejor para simular rehab. con múltiples movimientos | Bueno para prototipos iniciales o hardware limitado |\n",
    "\n",
    "<p align=\"center\"><b>Tabla 2.</b> Comparación de datasets.</p>\n",
    "\n",
    "- **El Dataset 2a de la BCI Competition IV** es ampliamente utilizado en investigación, con abundante bibliografía y validación previa. Su mayor número de canales EEG y variedad de clases lo hacen ideal para simular rehabilitación motora compleja mediante imaginación motora [6].\n",
    "\n",
    "- **El Dataset 2b**, aunque más simple (menos canales y solo dos clases), resulta útil para pruebas rápidas, validación inicial de algoritmos y simulaciones en hardware con capacidad limitada, lo que lo convierte en un recurso complementario para escenarios más ligeros [7]."
   ]
  },
  {
   "cell_type": "markdown",
   "metadata": {},
   "source": [
    "### **2.3. Análisis exploratorio EDA 🎮👨‍💻👩‍💻**\n",
    "\n",
    "#### **2.3.1. Importación de librerias**\n",
    "Se importan las librerias necesarias para cargar y visualizar los datos"
   ]
  },
  {
   "cell_type": "code",
   "execution_count": 5,
   "metadata": {},
   "outputs": [
    {
     "ename": "ModuleNotFoundError",
     "evalue": "No module named 'mne'",
     "output_type": "error",
     "traceback": [
      "\u001b[1;31m---------------------------------------------------------------------------\u001b[0m",
      "\u001b[1;31mModuleNotFoundError\u001b[0m                       Traceback (most recent call last)",
      "Cell \u001b[1;32mIn[5], line 1\u001b[0m\n\u001b[1;32m----> 1\u001b[0m \u001b[38;5;28;01mimport\u001b[39;00m\u001b[38;5;250m \u001b[39m\u001b[38;5;21;01mmne\u001b[39;00m\n",
      "\u001b[1;31mModuleNotFoundError\u001b[0m: No module named 'mne'"
     ]
    }
   ],
   "source": [
    "import mne"
   ]
  },
  {
   "cell_type": "markdown",
   "metadata": {},
   "source": [
    "## Referencias\n",
    "\n",
    "1. Peksa, J., & Mamchur, D. (2023). State-of-the-Art on Brain-Computer Interface Technology. Sensors, 23(13), 6001. https://doi.org/10.3390/s23136001\n",
    "\n",
    "2. https://pmc.ncbi.nlm.nih.gov/articles/PMC11890000/\n",
    "\n",
    "3. https://pubmed.ncbi.nlm.nih.gov/40060989/\n",
    "\n",
    "4. https://www.mdpi.com/2076-3417/14/14/6347\n",
    "\n",
    "5. https://link.springer.com/article/10.1186/s12984-021-00820-8\n",
    "\n",
    "6. https://www.bbci.de/competition/iv/desc_2a.pdf\n",
    "\n",
    "7. https://www.bbci.de/competition/iv/desc_2b.pdf"
   ]
  },
  {
   "cell_type": "markdown",
   "metadata": {},
   "source": []
  }
 ],
 "metadata": {
  "kernelspec": {
   "display_name": "base",
   "language": "python",
   "name": "python3"
  },
  "language_info": {
   "codemirror_mode": {
    "name": "ipython",
    "version": 3
   },
   "file_extension": ".py",
   "mimetype": "text/x-python",
   "name": "python",
   "nbconvert_exporter": "python",
   "pygments_lexer": "ipython3",
   "version": "3.13.5"
  }
 },
 "nbformat": 4,
 "nbformat_minor": 2
}
